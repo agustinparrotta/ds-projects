{
 "cells": [
  {
   "cell_type": "markdown",
   "metadata": {},
   "source": [
    "# Data Analysis\n",
    "\n",
    "Cargo librerías y dataset"
   ]
  },
  {
   "cell_type": "code",
   "execution_count": 1,
   "metadata": {},
   "outputs": [],
   "source": [
    "import pandas as pd\n",
    "import numpy as np\n",
    "import matplotlib.pyplot as plt\n",
    "import seaborn as sns\n",
    "\n",
    "# train and test set\n",
    "from sklearn.model_selection import train_test_split\n",
    "\n",
    "# feature scaling\n",
    "from sklearn.preprocessing import StandardScaler\n",
    "from sklearn.preprocessing import MinMaxScaler\n",
    "\n",
    "# to build the models\n",
    "from sklearn.linear_model import LogisticRegression\n",
    "from sklearn.linear_model import Lasso\n",
    "from sklearn.feature_selection import SelectFromModel\n",
    "from sklearn.ensemble import RandomForestClassifier\n",
    "from sklearn.neighbors import KNeighborsClassifier\n",
    "from sklearn.tree import DecisionTreeClassifier\n",
    "import lightgbm as lgb\n",
    "\n",
    "# to evaluate the models\n",
    "from sklearn.metrics import accuracy_score, roc_auc_score, balanced_accuracy_score, plot_roc_curve, plot_precision_recall_curve\n",
    "from sklearn.metrics import precision_score, recall_score, f1_score, precision_recall_fscore_support\n",
    "from yellowbrick.classifier import ClassificationReport, DiscriminationThreshold, ROCAUC\n",
    "\n",
    "# to persist the model and the scaler\n",
    "# to save the trained scaler class\n",
    "import joblib\n",
    "\n",
    "# to display all the columns of the dataframe in the notebook\n",
    "pd.pandas.set_option('display.max_columns', None)"
   ]
  },
  {
   "cell_type": "code",
   "execution_count": 58,
   "metadata": {},
   "outputs": [
    {
     "name": "stdout",
     "output_type": "stream",
     "text": [
      "(8000, 11)\n"
     ]
    },
    {
     "data": {
      "text/html": [
       "<div>\n",
       "<style scoped>\n",
       "    .dataframe tbody tr th:only-of-type {\n",
       "        vertical-align: middle;\n",
       "    }\n",
       "\n",
       "    .dataframe tbody tr th {\n",
       "        vertical-align: top;\n",
       "    }\n",
       "\n",
       "    .dataframe thead th {\n",
       "        text-align: right;\n",
       "    }\n",
       "</style>\n",
       "<table border=\"1\" class=\"dataframe\">\n",
       "  <thead>\n",
       "    <tr style=\"text-align: right;\">\n",
       "      <th></th>\n",
       "      <th>ID</th>\n",
       "      <th>nivel_de_satisfaccion</th>\n",
       "      <th>ultima_evaluacion</th>\n",
       "      <th>cantidad_proyectos</th>\n",
       "      <th>promedio_horas_mensuales_trabajadas</th>\n",
       "      <th>años_en_la_empresa</th>\n",
       "      <th>tuvo_un_accidente_laboral</th>\n",
       "      <th>promociones_ultimos_5_anios</th>\n",
       "      <th>area</th>\n",
       "      <th>salario</th>\n",
       "      <th>se_fue</th>\n",
       "    </tr>\n",
       "  </thead>\n",
       "  <tbody>\n",
       "    <tr>\n",
       "      <th>0</th>\n",
       "      <td>2876.0</td>\n",
       "      <td>0.63</td>\n",
       "      <td>0.84</td>\n",
       "      <td>3</td>\n",
       "      <td>269</td>\n",
       "      <td>2</td>\n",
       "      <td>0</td>\n",
       "      <td>0</td>\n",
       "      <td>gestión de productos</td>\n",
       "      <td>bajo</td>\n",
       "      <td>no</td>\n",
       "    </tr>\n",
       "    <tr>\n",
       "      <th>1</th>\n",
       "      <td>7883.0</td>\n",
       "      <td>0.11</td>\n",
       "      <td>0.93</td>\n",
       "      <td>7</td>\n",
       "      <td>284</td>\n",
       "      <td>4</td>\n",
       "      <td>0</td>\n",
       "      <td>0</td>\n",
       "      <td>tecnica</td>\n",
       "      <td>bajo</td>\n",
       "      <td>si</td>\n",
       "    </tr>\n",
       "    <tr>\n",
       "      <th>2</th>\n",
       "      <td>4089.0</td>\n",
       "      <td>0.60</td>\n",
       "      <td>0.42</td>\n",
       "      <td>2</td>\n",
       "      <td>109</td>\n",
       "      <td>6</td>\n",
       "      <td>0</td>\n",
       "      <td>0</td>\n",
       "      <td>ventas</td>\n",
       "      <td>bajo</td>\n",
       "      <td>no</td>\n",
       "    </tr>\n",
       "    <tr>\n",
       "      <th>3</th>\n",
       "      <td>8828.0</td>\n",
       "      <td>0.38</td>\n",
       "      <td>0.49</td>\n",
       "      <td>4</td>\n",
       "      <td>196</td>\n",
       "      <td>3</td>\n",
       "      <td>0</td>\n",
       "      <td>1</td>\n",
       "      <td>dirección</td>\n",
       "      <td>alto</td>\n",
       "      <td>no</td>\n",
       "    </tr>\n",
       "    <tr>\n",
       "      <th>4</th>\n",
       "      <td>9401.0</td>\n",
       "      <td>0.11</td>\n",
       "      <td>0.83</td>\n",
       "      <td>6</td>\n",
       "      <td>244</td>\n",
       "      <td>4</td>\n",
       "      <td>0</td>\n",
       "      <td>0</td>\n",
       "      <td>contabilidad</td>\n",
       "      <td>bajo</td>\n",
       "      <td>si</td>\n",
       "    </tr>\n",
       "  </tbody>\n",
       "</table>\n",
       "</div>"
      ],
      "text/plain": [
       "       ID  nivel_de_satisfaccion  ultima_evaluacion  cantidad_proyectos  \\\n",
       "0  2876.0                   0.63               0.84                   3   \n",
       "1  7883.0                   0.11               0.93                   7   \n",
       "2  4089.0                   0.60               0.42                   2   \n",
       "3  8828.0                   0.38               0.49                   4   \n",
       "4  9401.0                   0.11               0.83                   6   \n",
       "\n",
       "   promedio_horas_mensuales_trabajadas  años_en_la_empresa  \\\n",
       "0                                  269                   2   \n",
       "1                                  284                   4   \n",
       "2                                  109                   6   \n",
       "3                                  196                   3   \n",
       "4                                  244                   4   \n",
       "\n",
       "   tuvo_un_accidente_laboral  promociones_ultimos_5_anios  \\\n",
       "0                          0                            0   \n",
       "1                          0                            0   \n",
       "2                          0                            0   \n",
       "3                          0                            1   \n",
       "4                          0                            0   \n",
       "\n",
       "                   area salario se_fue  \n",
       "0  gestión de productos    bajo     no  \n",
       "1               tecnica    bajo     si  \n",
       "2                ventas    bajo     no  \n",
       "3             dirección    alto     no  \n",
       "4          contabilidad    bajo     si  "
      ]
     },
     "execution_count": 58,
     "metadata": {},
     "output_type": "execute_result"
    }
   ],
   "source": [
    "# Cargo datos\n",
    "data = pd.read_csv('Evaluación Técnica - Applied Intelligence/train.csv')\n",
    "\n",
    "print(data.shape)\n",
    "data.head()"
   ]
  },
  {
   "cell_type": "code",
   "execution_count": 3,
   "metadata": {},
   "outputs": [
    {
     "name": "stdout",
     "output_type": "stream",
     "text": [
      "<class 'pandas.core.frame.DataFrame'>\n",
      "RangeIndex: 8000 entries, 0 to 7999\n",
      "Data columns (total 11 columns):\n",
      " #   Column                               Non-Null Count  Dtype  \n",
      "---  ------                               --------------  -----  \n",
      " 0   ID                                   8000 non-null   float64\n",
      " 1   nivel_de_satisfaccion                8000 non-null   float64\n",
      " 2   ultima_evaluacion                    8000 non-null   float64\n",
      " 3   cantidad_proyectos                   8000 non-null   int64  \n",
      " 4   promedio_horas_mensuales_trabajadas  8000 non-null   int64  \n",
      " 5   años_en_la_empresa                   8000 non-null   int64  \n",
      " 6   tuvo_un_accidente_laboral            8000 non-null   int64  \n",
      " 7   promociones_ultimos_5_anios          8000 non-null   int64  \n",
      " 8   area                                 8000 non-null   object \n",
      " 9   salario                              8000 non-null   object \n",
      " 10  se_fue                               8000 non-null   object \n",
      "dtypes: float64(3), int64(5), object(3)\n",
      "memory usage: 687.6+ KB\n"
     ]
    }
   ],
   "source": [
    "data.info()"
   ]
  },
  {
   "cell_type": "markdown",
   "metadata": {},
   "source": [
    "## Data exploration\n",
    "### Encontrar variables numéricas y categóricas"
   ]
  },
  {
   "cell_type": "code",
   "execution_count": 4,
   "metadata": {},
   "outputs": [],
   "source": [
    "target = 'se_fue'"
   ]
  },
  {
   "cell_type": "code",
   "execution_count": 5,
   "metadata": {},
   "outputs": [
    {
     "name": "stdout",
     "output_type": "stream",
     "text": [
      "Cantidad de variables numéricas: 8\n",
      "Cantidad de variables categóricas: 2\n"
     ]
    }
   ],
   "source": [
    "# Variables numéricas\n",
    "vars_num = [c for c in data.columns if data[c].dtypes!='O']\n",
    "# Variables categóricas\n",
    "vars_cat = [c for c in data.columns if data[c].dtypes=='O' and c!=target]\n",
    "\n",
    "print('Cantidad de variables numéricas: {}'.format(len(vars_num)))\n",
    "print('Cantidad de variables categóricas: {}'.format(len(vars_cat)))"
   ]
  },
  {
   "cell_type": "code",
   "execution_count": 6,
   "metadata": {},
   "outputs": [
    {
     "name": "stdout",
     "output_type": "stream",
     "text": [
      "Target: \n",
      "no    0.764\n",
      "si    0.236\n",
      "Name: se_fue, dtype: float64\n"
     ]
    }
   ],
   "source": [
    "#porcentaje abandono \n",
    "print('Target: ') \n",
    "print(data['se_fue'].value_counts()/len(data['se_fue']))"
   ]
  },
  {
   "cell_type": "markdown",
   "metadata": {},
   "source": [
    "Hay cierto desabalance de data, podría requerir un abordaje para mejorar performance de modelos "
   ]
  },
  {
   "cell_type": "markdown",
   "metadata": {},
   "source": [
    "### Busco missing values "
   ]
  },
  {
   "cell_type": "code",
   "execution_count": 7,
   "metadata": {},
   "outputs": [
    {
     "data": {
      "text/plain": [
       "ID                                     0\n",
       "nivel_de_satisfaccion                  0\n",
       "ultima_evaluacion                      0\n",
       "cantidad_proyectos                     0\n",
       "promedio_horas_mensuales_trabajadas    0\n",
       "años_en_la_empresa                     0\n",
       "tuvo_un_accidente_laboral              0\n",
       "promociones_ultimos_5_anios            0\n",
       "dtype: int64"
      ]
     },
     "execution_count": 7,
     "metadata": {},
     "output_type": "execute_result"
    }
   ],
   "source": [
    "# Primero en variables numericas\n",
    "data[vars_num].isnull().sum()"
   ]
  },
  {
   "cell_type": "code",
   "execution_count": 8,
   "metadata": {},
   "outputs": [
    {
     "data": {
      "text/plain": [
       "area       0\n",
       "salario    0\n",
       "dtype: int64"
      ]
     },
     "execution_count": 8,
     "metadata": {},
     "output_type": "execute_result"
    }
   ],
   "source": [
    "# Ahora en variables categoricas\n",
    "data[vars_cat].isnull().sum()"
   ]
  },
  {
   "cell_type": "markdown",
   "metadata": {},
   "source": [
    "No hay missing values "
   ]
  },
  {
   "cell_type": "markdown",
   "metadata": {},
   "source": [
    "### Análisis Variables numericas\n",
    "Veamos las distribuciones de las variables numércias "
   ]
  },
  {
   "cell_type": "code",
   "execution_count": 15,
   "metadata": {},
   "outputs": [
    {
     "data": {
      "image/png": "[encoded data removed]",
      "text/plain": [
       "<Figure size 864x720 with 9 Axes>"
      ]
     },
     "metadata": {},
     "output_type": "display_data"
    }
   ],
   "source": [
    "data[vars_num].hist(bins=30, figsize=(12,10))\n",
    "plt.show()"
   ]
  },
  {
   "cell_type": "markdown",
   "metadata": {},
   "source": [
    "1) ID: Naturalmente no brinda mucha info pues es único para cada persona, candidata a borrarse.\n",
    "\n",
    "2) nivel_de_satisfacción: Se observa una gran cantidad de personas con satisfacción 0. Podría ser que los valores en realidad sean missing values o que 0 sea el default cuanddo no se contestó, entonces debiera imputar los 0's, pero no me parece descabellado que mucha gente manifieste disconformidad de esta manera, es discutible y dependerá del contexto de los datos. Independientemente de lo mencionado, esta variable parece ser poco útil si la tratamos de manera cuantitativa. Tal vez sería mejor pasarla a categórica bajo cierto criterio.\n",
    "\n",
    "3) última_evaluación: parece haber una bajada abrupta desde aprox 0.45 para abajo. \n",
    "\n",
    "4) cantidad_proyectos: es discreta y la mayoría de personas hizo entre 3 y 4. \n",
    "\n",
    "5) promedio_horas_mensuales_trabajadas: se observan dos picos, uno por 150 y otro por 250, lo cual puede asociarse a los tipos de jornadas laborales día completo o medio día. \n",
    "\n",
    "6) años_en_la_empresa: la mayoría hace 3 años que están en empresa.\n",
    "\n",
    "7) tuvo_un_acidente_laboral: la mayoría de las personas no tuvo accidente laboral, o al menos sería lo más lógico pensar que 0 se corresponde a 'no'. Esta variable puede pasarse a cualitativa para analizarla un toque más. \n",
    "\n",
    "8) promociones_ultimos_5_anios: similar a la variable anterior, la mayoría no tuvo promociones. "
   ]
  },
  {
   "cell_type": "code",
   "execution_count": 9,
   "metadata": {},
   "outputs": [],
   "source": [
    "# 1) Borro la columna de ID's\n",
    "data = data.drop(['ID'], axis=1)"
   ]
  },
  {
   "cell_type": "code",
   "execution_count": 10,
   "metadata": {},
   "outputs": [],
   "source": [
    "# 2) Pasemos a categórica la variable nivel_de_satisfacción\n",
    "\n",
    "# Vamos a dividir por intervalos: \n",
    "#    Pésimo [0,4), Regular[4,6), Bueno[0,8), Excelente[8,10]\n",
    "\n",
    "def convert_satisfaction(value):\n",
    "  \n",
    "    if value < 0.4:\n",
    "        return \"Pésimo\"\n",
    "    elif (value >= 0.4 and value < 0.6):\n",
    "        return 'Regular'\n",
    "    elif (value >= 0.6 and value < 0.8):\n",
    "        return 'Bueno'\n",
    "    else:\n",
    "        return \"Excelente\"\n",
    "    \n",
    "data['nivel_de_satisfaccion'] = data['nivel_de_satisfaccion'].apply(convert_satisfaction)"
   ]
  },
  {
   "cell_type": "code",
   "execution_count": 11,
   "metadata": {},
   "outputs": [],
   "source": [
    "# 7) Pasemos a categórica tuvo_un_accidente_laboral\n",
    "data['tuvo_un_accidente_laboral'] = data['tuvo_un_accidente_laboral'].apply(lambda value: 'no' if value == 0 else \"si\")"
   ]
  },
  {
   "cell_type": "code",
   "execution_count": 12,
   "metadata": {},
   "outputs": [],
   "source": [
    "# 8) También pasemos a categórica promociones_ultimos_5_anios\n",
    "data['promociones_ultimos_5_anios'] = data['promociones_ultimos_5_anios'].apply(lambda value: 'no' if value == 0 else \"si\")"
   ]
  },
  {
   "cell_type": "markdown",
   "metadata": {},
   "source": [
    "#### Correlaciones"
   ]
  },
  {
   "cell_type": "code",
   "execution_count": 13,
   "metadata": {},
   "outputs": [
    {
     "data": {
      "text/plain": [
       "<AxesSubplot:>"
      ]
     },
     "execution_count": 13,
     "metadata": {},
     "output_type": "execute_result"
    },
    {
     "data": {
      "image/png": "[encoded data removed]",
      "text/plain": [
       "<Figure size 648x360 with 2 Axes>"
      ]
     },
     "metadata": {},
     "output_type": "display_data"
    }
   ],
   "source": [
    "plt.figure(figsize=(9, 5))\n",
    "sns.heatmap(data.corr(), annot=True)"
   ]
  },
  {
   "cell_type": "markdown",
   "metadata": {},
   "source": [
    "Veo cierta correlación entre variables pero no tan marcada. Por lo que en principio no debiera analizar correlaciones expurias, eliminar aquellas muy correlacionadas, o hacer una reducción de dimensionalidad. A priori todo sirve.\n",
    "\n",
    "La mayor correlación es entre cantidad de proyectos y horas trabajadas. Esto tiene total lógica, más proyectos más tiempo requerido. Luego le sigue ultima evaluacion con cantidad de proyectos e inmediatamente ultima evaluacion con promedio de horas mensuales trabajadas.\n",
    "\n",
    "Hagamos unos gráficos para ver la realción de todas estas variables con la variable target: "
   ]
  },
  {
   "cell_type": "code",
   "execution_count": 14,
   "metadata": {},
   "outputs": [
    {
     "data": {
      "text/plain": [
       "<AxesSubplot:xlabel='años_en_la_empresa', ylabel='Density'>"
      ]
     },
     "execution_count": 14,
     "metadata": {},
     "output_type": "execute_result"
    },
    {
     "data": {
      "image/png": "[encoded data removed]",
      "text/plain": [
       "<Figure size 864x864 with 4 Axes>"
      ]
     },
     "metadata": {},
     "output_type": "display_data"
    }
   ],
   "source": [
    "fig = plt.figure(figsize=(12, 12))\n",
    "fig.subplots_adjust(hspace=0.4, wspace=0.4)\n",
    "ax = fig.add_subplot(2, 2, 1)\n",
    "sns.kdeplot(x='ultima_evaluacion', data=data, hue='se_fue', fill='se_fue', ax=ax, palette='binary')\n",
    "ax = fig.add_subplot(2, 2, 2)\n",
    "sns.kdeplot(x='cantidad_proyectos', data=data, hue='se_fue', fill='se_fue', ax=ax, palette='binary')\n",
    "ax = fig.add_subplot(2, 2, 3)\n",
    "sns.kdeplot(x='promedio_horas_mensuales_trabajadas', data=data, hue='se_fue', fill='se_fue', ax=ax, palette='binary')\n",
    "ax = fig.add_subplot(2, 2, 4)\n",
    "sns.kdeplot(x='años_en_la_empresa', data=data, hue='se_fue', fill='se_fue', ax=ax, palette='binary')"
   ]
  },
  {
   "cell_type": "markdown",
   "metadata": {},
   "source": [
    "Aquí podemos ver varias cosas: \n",
    "- Respecto a última evaluación, claramente hay dos regiones de personas que se fueron, esto es por las zonas de 0.3 y 0.9 aprox. Podríamos pensar que las peores y mejores evaluaciones son mas propensas a irse, en tanto que las intermedias no.  \n",
    "- Respecto a cantidad de proyectos, la mayor cantidad de personas que se van son aquellas que tenían 2 proyectos, luego en menor medida aquellas que tenían 5 y 6. Muy marcada la diferencia en el caso de tener 3 proyectos: la mayoría no se va.\n",
    "- Respecto a promedio de horas mensuales trabajadas ocurre algo muy similar a la variable ultima_evaluacion.. dos regiones bien marcadas para quienes se van, en torno a 150 y 260 horas. \n",
    "- Respecto a años en la empresa, nuevamente hay distinciones interesantes: aquellos que tienen 2 años no se van por lo general, y luego si se van en mayor medida los de 3,4 y 5 años. Incluso a los 5 años es más la gente que se va de la que se queda.  \n",
    "\n",
    "Este análisis permite concluir que todas las variables son interesantes."
   ]
  },
  {
   "cell_type": "markdown",
   "metadata": {},
   "source": [
    "#### Outliers\n",
    "\n",
    "Recordar que ahora hay nuevas categóricas "
   ]
  },
  {
   "cell_type": "code",
   "execution_count": 15,
   "metadata": {},
   "outputs": [
    {
     "name": "stdout",
     "output_type": "stream",
     "text": [
      "Numero de variables numericas: 4\n",
      "Numero de variables categoricas: 5\n"
     ]
    }
   ],
   "source": [
    "vars_num = [c for c in data.columns if data[c].dtypes!='O' and c!=target]\n",
    "\n",
    "vars_cat = [c for c in data.columns if data[c].dtypes=='O' and c!=target]\n",
    "\n",
    "print('Numero de variables numericas: {}'.format(len(vars_num)))\n",
    "print('Numero de variables categoricas: {}'.format(len(vars_cat)))"
   ]
  },
  {
   "cell_type": "code",
   "execution_count": 16,
   "metadata": {},
   "outputs": [
    {
     "data": {
      "text/plain": [
       "Text(0.5, 1.0, 'Boxplot $\\\\frac{x-u}{\\\\sigma}$')"
      ]
     },
     "execution_count": 16,
     "metadata": {},
     "output_type": "execute_result"
    },
    {
     "data": {
      "image/png": "[encoded data removed]",
      "text/plain": [
       "<Figure size 1152x432 with 1 Axes>"
      ]
     },
     "metadata": {},
     "output_type": "display_data"
    }
   ],
   "source": [
    "std=data[vars_num].std(axis=0)\n",
    "mean = data[vars_num].mean(axis=0)\n",
    "boxplot = data[vars_num].sub(mean).div(std).boxplot(figsize=(16,6))\n",
    "plt.xticks(rotation='vertical')\n",
    "plt.title(r'Boxplot $\\frac{x-u}{\\sigma}$')"
   ]
  },
  {
   "cell_type": "markdown",
   "metadata": {},
   "source": [
    "En general no se detectan Outleirs, salvo en años_en_la_empresa pero que son propios de la distribución (jefes, líderes, dueños, etc). Podría eliminarlos pero en principio no son datos raros, así que los mantengo.  "
   ]
  },
  {
   "cell_type": "markdown",
   "metadata": {},
   "source": [
    "### Análisis de Variables categóricas\n",
    "\n",
    "Veamos cardinalidad y valores "
   ]
  },
  {
   "cell_type": "code",
   "execution_count": 17,
   "metadata": {},
   "outputs": [
    {
     "name": "stdout",
     "output_type": "stream",
     "text": [
      "nivel_de_satisfaccion : tiene 4 valores\n",
      "['Bueno' 'Pésimo' 'Regular' 'Excelente']\n",
      "\n",
      "\n",
      "tuvo_un_accidente_laboral : tiene 2 valores\n",
      "['no' 'si']\n",
      "\n",
      "\n",
      "promociones_ultimos_5_anios : tiene 2 valores\n",
      "['no' 'si']\n",
      "\n",
      "\n",
      "area : tiene 10 valores\n",
      "['gestión de productos' 'tecnica' 'ventas' 'dirección' 'contabilidad'\n",
      " 'ImásD' 'marketing' 'RRHH' 'soporte' 'TI']\n",
      "\n",
      "\n",
      "salario : tiene 3 valores\n",
      "['bajo' 'alto' 'medio']\n",
      "\n",
      "\n"
     ]
    }
   ],
   "source": [
    "# exploremos los valores\n",
    "for var in vars_cat:\n",
    "    print(var,': tiene',data[var].nunique(),'valores')\n",
    "    print(data[var].unique())\n",
    "    print('\\n')"
   ]
  },
  {
   "cell_type": "code",
   "execution_count": 18,
   "metadata": {},
   "outputs": [
    {
     "data": {
      "text/plain": [
       "<AxesSubplot:>"
      ]
     },
     "execution_count": 18,
     "metadata": {},
     "output_type": "execute_result"
    },
    {
     "data": {
      "image/png": "[encoded data removed]",
      "text/plain": [
       "<Figure size 864x360 with 1 Axes>"
      ]
     },
     "metadata": {},
     "output_type": "display_data"
    }
   ],
   "source": [
    "# mas graficamente\n",
    "data[vars_cat].nunique().sort_values(ascending=False).plot.bar(figsize=(12,5))"
   ]
  },
  {
   "cell_type": "markdown",
   "metadata": {},
   "source": [
    "Todas las variables categóricas muestran baja cardinalidad, esto significa que tienen pocos labels diferentes. Esto es bueno ya que no necesitamos abordar el problema de cardinalidad durante el feature engineering. "
   ]
  },
  {
   "cell_type": "code",
   "execution_count": 19,
   "metadata": {},
   "outputs": [
    {
     "name": "stdout",
     "output_type": "stream",
     "text": [
      "nivel_de_satisfaccion \n",
      " Bueno        0.282250\n",
      "Excelente    0.279500\n",
      "Regular      0.239875\n",
      "Pésimo       0.198375\n",
      "Name: nivel_de_satisfaccion, dtype: float64\n",
      "\n",
      "\n",
      "tuvo_un_accidente_laboral \n",
      " no    0.85125\n",
      "si    0.14875\n",
      "Name: tuvo_un_accidente_laboral, dtype: float64\n",
      "\n",
      "\n",
      "promociones_ultimos_5_anios \n",
      " no    0.977625\n",
      "si    0.022375\n",
      "Name: promociones_ultimos_5_anios, dtype: float64\n",
      "\n",
      "\n",
      "area \n",
      " ventas                  0.275875\n",
      "tecnica                 0.186125\n",
      "soporte                 0.147250\n",
      "TI                      0.080250\n",
      "gestión de productos    0.061500\n",
      "marketing               0.055250\n",
      "ImásD                   0.053875\n",
      "RRHH                    0.049875\n",
      "contabilidad            0.049375\n",
      "dirección               0.040625\n",
      "Name: area, dtype: float64\n",
      "\n",
      "\n",
      "salario \n",
      " bajo     0.48675\n",
      "medio    0.43150\n",
      "alto     0.08175\n",
      "Name: salario, dtype: float64\n",
      "\n",
      "\n"
     ]
    }
   ],
   "source": [
    "# proporción de labels por categoría\n",
    "for var in vars_cat:\n",
    "    print(var,'\\n',data[var].value_counts()/len(data[var]))\n",
    "    print('\\n')"
   ]
  },
  {
   "cell_type": "markdown",
   "metadata": {},
   "source": [
    "Podemos ver que la mayor cantidad de personas NO tuvo un accidente laboral, ni tuvo promociones durante los últimos 5 años.\n",
    "\n",
    "Por otro lado, la mayor parte del personal es de ventas, seguido por tecnica y soporte. \n",
    "\n",
    "Respecto a los salarios, casi la mitad son bajos y menos del 10% altos.\n",
    "\n",
    "#### Pivoteo entre variables\n",
    "Veamos más analiticamente la relación entre estas variables y la variables que queremos predecir 'Se_fue'"
   ]
  },
  {
   "cell_type": "code",
   "execution_count": 21,
   "metadata": {},
   "outputs": [],
   "source": [
    "data['se_fue'] = data['se_fue'].map(dict(si=1, no=0))"
   ]
  },
  {
   "cell_type": "code",
   "execution_count": 22,
   "metadata": {},
   "outputs": [
    {
     "name": "stdout",
     "output_type": "stream",
     "text": [
      "  nivel_de_satisfaccion    se_fue\n",
      "2                Pésimo  0.534972\n",
      "3               Regular  0.279833\n",
      "1             Excelente  0.131485\n",
      "0                 Bueno  0.092117\n",
      "\n",
      "\n",
      "  tuvo_un_accidente_laboral    se_fue\n",
      "0                        no  0.264317\n",
      "1                        si  0.073950\n",
      "\n",
      "\n",
      "  promociones_ultimos_5_anios    se_fue\n",
      "0                          no  0.240123\n",
      "1                          si  0.055866\n",
      "\n",
      "\n",
      "                   area    se_fue\n",
      "1                  RRHH  0.265664\n",
      "8               tecnica  0.258563\n",
      "6             marketing  0.253394\n",
      "9                ventas  0.246942\n",
      "7               soporte  0.245331\n",
      "3          contabilidad  0.240506\n",
      "5  gestión de productos  0.213415\n",
      "2                    TI  0.211838\n",
      "0                 ImásD  0.153132\n",
      "4             dirección  0.150769\n",
      "\n",
      "\n",
      "  salario    se_fue\n",
      "1    bajo  0.297124\n",
      "2   medio  0.198436\n",
      "0    alto  0.070336\n",
      "\n",
      "\n"
     ]
    }
   ],
   "source": [
    "for var in vars_cat:\n",
    "    print(data[[var, 'se_fue']].groupby([var], as_index=False).mean().sort_values(by='se_fue', ascending=False))\n",
    "    print('\\n')"
   ]
  },
  {
   "cell_type": "markdown",
   "metadata": {},
   "source": [
    "- De acuerdo al nivel de satisfacción, la mayor parte de personas que se fueron son las que manifestaron Pésimo, seguidas por Regular.\n",
    "- Según accidente laboral, se va más gente que NO tuvo, pero son muy pocos los que tuvieron así que no es tan clara la relación. Lo mismo ocurre con promociones los útlimos 5 años. \n",
    "- Por área no hay grandes diferencias pero sí entre los extremos: RRHH es en la que más se van, y en la que menos dirección lo cual es lógico pues la dirección es un cargo importante de mantener. \n",
    "- Respecto a salarios, mayormente se van los de salarios bajos, y los de altos se van poco. "
   ]
  },
  {
   "cell_type": "code",
   "execution_count": 26,
   "metadata": {},
   "outputs": [
    {
     "data": {
      "text/plain": [
       "<matplotlib.legend.Legend at 0x7fd33cd54cd0>"
      ]
     },
     "execution_count": 26,
     "metadata": {},
     "output_type": "execute_result"
    },
    {
     "data": {
      "image/png": "[encoded data removed]",
      "text/plain": [
       "<Figure size 720x864 with 5 Axes>"
      ]
     },
     "metadata": {},
     "output_type": "display_data"
    }
   ],
   "source": [
    "# Veamos el análisis anterior de manera más gráfica\n",
    "fig = plt.figure(figsize=(10, 12))\n",
    "fig.subplots_adjust(hspace=0.4, wspace=0.4)\n",
    "ax = fig.add_subplot(5, 1, 1)\n",
    "sns.countplot(x='nivel_de_satisfaccion', data=data, hue='se_fue', ax=ax)\n",
    "plt.legend(loc=2, bbox_to_anchor = (1.05,1), borderaxespad=0.)\n",
    "ax = fig.add_subplot(5, 1, 2)\n",
    "sns.countplot(x='tuvo_un_accidente_laboral', data=data, hue='se_fue', ax=ax)\n",
    "plt.legend(loc=2, bbox_to_anchor = (1.05,1), borderaxespad=0.)\n",
    "ax = fig.add_subplot(5, 1, 3)\n",
    "sns.countplot(x='promociones_ultimos_5_anios', data=data, hue='se_fue', ax=ax)\n",
    "plt.legend(loc=2, bbox_to_anchor = (1.05,1), borderaxespad=0.)\n",
    "ax = fig.add_subplot(5, 1, 4)\n",
    "sns.countplot(x='area', data=data, hue='se_fue', ax=ax)\n",
    "plt.legend(loc=2, bbox_to_anchor = (1.05,1), borderaxespad=0.)\n",
    "ax = fig.add_subplot(5, 1, 5)\n",
    "sns.countplot(x='salario', data=data, hue='se_fue', ax=ax)\n",
    "plt.legend(loc=2, bbox_to_anchor = (1.05,1), borderaxespad=0.)"
   ]
  },
  {
   "cell_type": "markdown",
   "metadata": {},
   "source": [
    "### Labesl Rare\n",
    "\n",
    "Veamos si hay labels que están presentes sólo en una proporción pequeña (menor al 1%)"
   ]
  },
  {
   "cell_type": "code",
   "execution_count": 27,
   "metadata": {},
   "outputs": [
    {
     "name": "stdout",
     "output_type": "stream",
     "text": [
      "Series([], Name: nivel_de_satisfaccion, dtype: float64)\n",
      "\n",
      "Series([], Name: tuvo_un_accidente_laboral, dtype: float64)\n",
      "\n",
      "Series([], Name: promociones_ultimos_5_anios, dtype: float64)\n",
      "\n",
      "Series([], Name: area, dtype: float64)\n",
      "\n",
      "Series([], Name: salario, dtype: float64)\n",
      "\n"
     ]
    }
   ],
   "source": [
    "def analyse_rare_labels(df, var, rare_perc):\n",
    "    df = df.copy()\n",
    "\n",
    "    tmp = df[var].value_counts()/len(df[var])\n",
    "    # return categories that are rare\n",
    "    return tmp[tmp < rare_perc]\n",
    "\n",
    "# veamos las categorías que estań presentes hasta el\n",
    "# 1 % de las observaciones\n",
    "\n",
    "for var in vars_cat:\n",
    "    print(analyse_rare_labels(data, var, 0.01))\n",
    "    print()"
   ]
  },
  {
   "cell_type": "markdown",
   "metadata": {},
   "source": [
    "No hay labels que estén menos de 1% en proporción que puedan producir over-fitting de los modelos. Por lo tanto no hace falta etiquetar como raras ni condensarlas en otra.\n",
    "\n",
    "## Algunas gráficas\n",
    "Dado que no hay missing values ni otras cosas extrañas para hacer más cosas, hagamos algunas gráficas sólo por placer: "
   ]
  },
  {
   "cell_type": "code",
   "execution_count": 62,
   "metadata": {},
   "outputs": [],
   "source": [
    "# Defino una función para graficar variables categóricas vs numéricas\n",
    "def density_plus_box(categorical, numerical):\n",
    "    \n",
    "    fig = plt.figure(figsize=(14, 6))\n",
    "    fig.subplots_adjust(hspace=0.4, wspace=0.4)\n",
    "    \n",
    "    ax = fig.add_subplot(1, 2, 1)\n",
    "    sns.kdeplot(x=numerical,data=data, hue=categorical, fill=categorical, ax=ax)\n",
    "    \n",
    "    ax = fig.add_subplot(1, 2, 2)\n",
    "    sns.boxplot(x=categorical, y=numerical, data=data, palette='rainbow', ax=ax)\n",
    "    plt.xticks(rotation=45)"
   ]
  },
  {
   "cell_type": "code",
   "execution_count": 63,
   "metadata": {},
   "outputs": [
    {
     "data": {
      "text/plain": [
       "['ultima_evaluacion',\n",
       " 'cantidad_proyectos',\n",
       " 'promedio_horas_mensuales_trabajadas',\n",
       " 'años_en_la_empresa',\n",
       " 'se_fue']"
      ]
     },
     "execution_count": 63,
     "metadata": {},
     "output_type": "execute_result"
    }
   ],
   "source": [
    "vars_num"
   ]
  },
  {
   "cell_type": "code",
   "execution_count": 65,
   "metadata": {},
   "outputs": [
    {
     "data": {
      "text/plain": [
       "['nivel_de_satisfaccion',\n",
       " 'tuvo_un_accidente_laboral',\n",
       " 'promociones_ultimos_5_anios',\n",
       " 'area',\n",
       " 'salario']"
      ]
     },
     "execution_count": 65,
     "metadata": {},
     "output_type": "execute_result"
    }
   ],
   "source": [
    "vars_cat"
   ]
  },
  {
   "cell_type": "code",
   "execution_count": 66,
   "metadata": {},
   "outputs": [
    {
     "data": {
      "image/png": "[encoded data removed]",
      "text/plain": [
       "<Figure size 1008x432 with 2 Axes>"
      ]
     },
     "metadata": {},
     "output_type": "display_data"
    }
   ],
   "source": [
    "density_plus_box('nivel_de_satisfaccion','ultima_evaluacion')"
   ]
  },
  {
   "cell_type": "code",
   "execution_count": 77,
   "metadata": {},
   "outputs": [
    {
     "data": {
      "image/png": "[encoded data removed]",
      "text/plain": [
       "<Figure size 1008x432 with 2 Axes>"
      ]
     },
     "metadata": {},
     "output_type": "display_data"
    }
   ],
   "source": [
    "density_plus_box('salario','cantidad_proyectos')"
   ]
  },
  {
   "cell_type": "code",
   "execution_count": 72,
   "metadata": {},
   "outputs": [
    {
     "data": {
      "image/png": "[encoded data removed]",
      "text/plain": [
       "<Figure size 1008x432 with 2 Axes>"
      ]
     },
     "metadata": {},
     "output_type": "display_data"
    }
   ],
   "source": [
    "density_plus_box('salario','promedio_horas_mensuales_trabajadas')"
   ]
  },
  {
   "cell_type": "markdown",
   "metadata": {},
   "source": [
    "# Feature Engineering\n",
    "\n",
    "Con todo el análisis previo puedo decir que la mayoría de las variables son interesantes para incluir en el modelo, salvo la de ID y algunos cambios realizados en base a las observaciones. "
   ]
  },
  {
   "cell_type": "markdown",
   "metadata": {},
   "source": [
    "## Separo dataset en train y validation\n",
    "\n",
    "Debo setear una semilla "
   ]
  },
  {
   "cell_type": "code",
   "execution_count": 28,
   "metadata": {},
   "outputs": [],
   "source": [
    "vars_num = [c for c in data.columns if data[c].dtypes!='O']\n",
    "vars_cat = [c for c in data.columns if data[c].dtypes=='O' and c!=target]"
   ]
  },
  {
   "cell_type": "code",
   "execution_count": 29,
   "metadata": {},
   "outputs": [
    {
     "data": {
      "text/plain": [
       "((7200, 9), (800, 9))"
      ]
     },
     "execution_count": 29,
     "metadata": {},
     "output_type": "execute_result"
    }
   ],
   "source": [
    "# Separemos la data \n",
    "\n",
    "X_train, X_val, y_train, y_val = train_test_split(\n",
    "    data.drop(['se_fue'], axis=1), \n",
    "    data['se_fue'], \n",
    "    test_size=0.1,\n",
    "    random_state=0,\n",
    ")\n",
    "\n",
    "X_train.shape, X_val.shape"
   ]
  },
  {
   "cell_type": "code",
   "execution_count": 30,
   "metadata": {},
   "outputs": [
    {
     "data": {
      "text/plain": [
       "nivel_de_satisfaccion           4\n",
       "tuvo_un_accidente_laboral       2\n",
       "promociones_ultimos_5_anios     2\n",
       "area                           10\n",
       "salario                         3\n",
       "dtype: int64"
      ]
     },
     "execution_count": 30,
     "metadata": {},
     "output_type": "execute_result"
    }
   ],
   "source": [
    "X_train[vars_cat].nunique()"
   ]
  },
  {
   "cell_type": "code",
   "execution_count": 31,
   "metadata": {},
   "outputs": [
    {
     "data": {
      "text/plain": [
       "nivel_de_satisfaccion           4\n",
       "tuvo_un_accidente_laboral       2\n",
       "promociones_ultimos_5_anios     2\n",
       "area                           10\n",
       "salario                         3\n",
       "dtype: int64"
      ]
     },
     "execution_count": 31,
     "metadata": {},
     "output_type": "execute_result"
    }
   ],
   "source": [
    "X_val[vars_cat].nunique()"
   ]
  },
  {
   "cell_type": "markdown",
   "metadata": {},
   "source": [
    "### Transformación a one-hot encoding de las variables categóricas"
   ]
  },
  {
   "cell_type": "code",
   "execution_count": 32,
   "metadata": {},
   "outputs": [
    {
     "data": {
      "text/plain": [
       "((7200, 20), (800, 20))"
      ]
     },
     "execution_count": 32,
     "metadata": {},
     "output_type": "execute_result"
    }
   ],
   "source": [
    "for var in vars_cat:\n",
    "    \n",
    "    # to create the binary variables, we use get_dummies from pandas\n",
    "    \n",
    "    X_train = pd.concat([X_train,\n",
    "                         pd.get_dummies(X_train[var], prefix=var, drop_first=True)\n",
    "                         ], axis=1)\n",
    "    \n",
    "    X_val = pd.concat([X_val,\n",
    "                        pd.get_dummies(X_val[var], prefix=var, drop_first=True)\n",
    "                        ], axis=1)\n",
    "    \n",
    "\n",
    "X_train.drop(labels=vars_cat, axis=1, inplace=True)\n",
    "X_val.drop(labels=vars_cat, axis=1, inplace=True)\n",
    "\n",
    "X_train.shape, X_val.shape"
   ]
  },
  {
   "cell_type": "code",
   "execution_count": 33,
   "metadata": {},
   "outputs": [
    {
     "data": {
      "text/plain": [
       "['ultima_evaluacion',\n",
       " 'cantidad_proyectos',\n",
       " 'promedio_horas_mensuales_trabajadas',\n",
       " 'años_en_la_empresa',\n",
       " 'nivel_de_satisfaccion_Excelente',\n",
       " 'nivel_de_satisfaccion_Pésimo',\n",
       " 'nivel_de_satisfaccion_Regular',\n",
       " 'tuvo_un_accidente_laboral_si',\n",
       " 'promociones_ultimos_5_anios_si',\n",
       " 'area_RRHH',\n",
       " 'area_TI',\n",
       " 'area_contabilidad',\n",
       " 'area_dirección',\n",
       " 'area_gestión de productos',\n",
       " 'area_marketing',\n",
       " 'area_soporte',\n",
       " 'area_tecnica',\n",
       " 'area_ventas',\n",
       " 'salario_bajo',\n",
       " 'salario_medio']"
      ]
     },
     "execution_count": 33,
     "metadata": {},
     "output_type": "execute_result"
    }
   ],
   "source": [
    "# creemos una variable de las variables para posibles futuros cambios\n",
    "variables = [c  for c in X_train.columns]\n",
    "variables"
   ]
  },
  {
   "cell_type": "markdown",
   "metadata": {},
   "source": [
    "## Feature scaling\n",
    "Escaleamos las variables a sus mínimos y máximos valores, podría usar el StandarScaler si asumo que la data tiene una distribución normal. \n",
    "\n",
    "Algunos modelos no requieren dicho escaleo (de hecho los que voy a usar no lo requieren) pero por si quisiera usar algún modelo que sí lo requiera lo hago a modo de mostrar conocimiento. "
   ]
  },
  {
   "cell_type": "code",
   "execution_count": 34,
   "metadata": {},
   "outputs": [],
   "source": [
    "# create scaler\n",
    "scaler = MinMaxScaler()\n",
    "\n",
    "#  fit  the scaler to the train set\n",
    "scaler.fit(X_train) \n",
    "\n",
    "# transform the train and test set\n",
    "X_train = pd.DataFrame(\n",
    "    scaler.transform(X_train),\n",
    "    columns=X_train.columns)\n",
    "\n",
    "X_val = pd.DataFrame(\n",
    "    scaler.transform(X_val),\n",
    "    columns=X_train.columns)"
   ]
  },
  {
   "cell_type": "code",
   "execution_count": 35,
   "metadata": {},
   "outputs": [
    {
     "data": {
      "text/html": [
       "<div>\n",
       "<style scoped>\n",
       "    .dataframe tbody tr th:only-of-type {\n",
       "        vertical-align: middle;\n",
       "    }\n",
       "\n",
       "    .dataframe tbody tr th {\n",
       "        vertical-align: top;\n",
       "    }\n",
       "\n",
       "    .dataframe thead th {\n",
       "        text-align: right;\n",
       "    }\n",
       "</style>\n",
       "<table border=\"1\" class=\"dataframe\">\n",
       "  <thead>\n",
       "    <tr style=\"text-align: right;\">\n",
       "      <th></th>\n",
       "      <th>ultima_evaluacion</th>\n",
       "      <th>cantidad_proyectos</th>\n",
       "      <th>promedio_horas_mensuales_trabajadas</th>\n",
       "      <th>años_en_la_empresa</th>\n",
       "      <th>nivel_de_satisfaccion_Excelente</th>\n",
       "      <th>nivel_de_satisfaccion_Pésimo</th>\n",
       "      <th>nivel_de_satisfaccion_Regular</th>\n",
       "      <th>tuvo_un_accidente_laboral_si</th>\n",
       "      <th>promociones_ultimos_5_anios_si</th>\n",
       "      <th>area_RRHH</th>\n",
       "      <th>area_TI</th>\n",
       "      <th>area_contabilidad</th>\n",
       "      <th>area_dirección</th>\n",
       "      <th>area_gestión de productos</th>\n",
       "      <th>area_marketing</th>\n",
       "      <th>area_soporte</th>\n",
       "      <th>area_tecnica</th>\n",
       "      <th>area_ventas</th>\n",
       "      <th>salario_bajo</th>\n",
       "      <th>salario_medio</th>\n",
       "    </tr>\n",
       "  </thead>\n",
       "  <tbody>\n",
       "    <tr>\n",
       "      <th>0</th>\n",
       "      <td>0.328125</td>\n",
       "      <td>0.2</td>\n",
       "      <td>0.289720</td>\n",
       "      <td>0.125</td>\n",
       "      <td>1.0</td>\n",
       "      <td>0.0</td>\n",
       "      <td>0.0</td>\n",
       "      <td>0.0</td>\n",
       "      <td>0.0</td>\n",
       "      <td>0.0</td>\n",
       "      <td>0.0</td>\n",
       "      <td>0.0</td>\n",
       "      <td>0.0</td>\n",
       "      <td>0.0</td>\n",
       "      <td>0.0</td>\n",
       "      <td>0.0</td>\n",
       "      <td>1.0</td>\n",
       "      <td>0.0</td>\n",
       "      <td>1.0</td>\n",
       "      <td>0.0</td>\n",
       "    </tr>\n",
       "    <tr>\n",
       "      <th>1</th>\n",
       "      <td>0.515625</td>\n",
       "      <td>0.2</td>\n",
       "      <td>0.261682</td>\n",
       "      <td>0.000</td>\n",
       "      <td>1.0</td>\n",
       "      <td>0.0</td>\n",
       "      <td>0.0</td>\n",
       "      <td>0.0</td>\n",
       "      <td>0.0</td>\n",
       "      <td>0.0</td>\n",
       "      <td>0.0</td>\n",
       "      <td>0.0</td>\n",
       "      <td>0.0</td>\n",
       "      <td>0.0</td>\n",
       "      <td>0.0</td>\n",
       "      <td>0.0</td>\n",
       "      <td>0.0</td>\n",
       "      <td>1.0</td>\n",
       "      <td>0.0</td>\n",
       "      <td>1.0</td>\n",
       "    </tr>\n",
       "    <tr>\n",
       "      <th>2</th>\n",
       "      <td>0.406250</td>\n",
       "      <td>0.4</td>\n",
       "      <td>0.728972</td>\n",
       "      <td>0.000</td>\n",
       "      <td>0.0</td>\n",
       "      <td>0.0</td>\n",
       "      <td>0.0</td>\n",
       "      <td>1.0</td>\n",
       "      <td>0.0</td>\n",
       "      <td>0.0</td>\n",
       "      <td>0.0</td>\n",
       "      <td>0.0</td>\n",
       "      <td>0.0</td>\n",
       "      <td>0.0</td>\n",
       "      <td>0.0</td>\n",
       "      <td>0.0</td>\n",
       "      <td>1.0</td>\n",
       "      <td>0.0</td>\n",
       "      <td>0.0</td>\n",
       "      <td>1.0</td>\n",
       "    </tr>\n",
       "    <tr>\n",
       "      <th>3</th>\n",
       "      <td>0.515625</td>\n",
       "      <td>0.4</td>\n",
       "      <td>0.266355</td>\n",
       "      <td>0.125</td>\n",
       "      <td>0.0</td>\n",
       "      <td>0.0</td>\n",
       "      <td>0.0</td>\n",
       "      <td>0.0</td>\n",
       "      <td>0.0</td>\n",
       "      <td>0.0</td>\n",
       "      <td>0.0</td>\n",
       "      <td>0.0</td>\n",
       "      <td>0.0</td>\n",
       "      <td>1.0</td>\n",
       "      <td>0.0</td>\n",
       "      <td>0.0</td>\n",
       "      <td>0.0</td>\n",
       "      <td>0.0</td>\n",
       "      <td>1.0</td>\n",
       "      <td>0.0</td>\n",
       "    </tr>\n",
       "    <tr>\n",
       "      <th>4</th>\n",
       "      <td>0.703125</td>\n",
       "      <td>0.8</td>\n",
       "      <td>0.696262</td>\n",
       "      <td>0.250</td>\n",
       "      <td>0.0</td>\n",
       "      <td>1.0</td>\n",
       "      <td>0.0</td>\n",
       "      <td>0.0</td>\n",
       "      <td>0.0</td>\n",
       "      <td>0.0</td>\n",
       "      <td>0.0</td>\n",
       "      <td>0.0</td>\n",
       "      <td>0.0</td>\n",
       "      <td>0.0</td>\n",
       "      <td>0.0</td>\n",
       "      <td>1.0</td>\n",
       "      <td>0.0</td>\n",
       "      <td>0.0</td>\n",
       "      <td>1.0</td>\n",
       "      <td>0.0</td>\n",
       "    </tr>\n",
       "  </tbody>\n",
       "</table>\n",
       "</div>"
      ],
      "text/plain": [
       "   ultima_evaluacion  cantidad_proyectos  promedio_horas_mensuales_trabajadas  \\\n",
       "0           0.328125                 0.2                             0.289720   \n",
       "1           0.515625                 0.2                             0.261682   \n",
       "2           0.406250                 0.4                             0.728972   \n",
       "3           0.515625                 0.4                             0.266355   \n",
       "4           0.703125                 0.8                             0.696262   \n",
       "\n",
       "   años_en_la_empresa  nivel_de_satisfaccion_Excelente  \\\n",
       "0               0.125                              1.0   \n",
       "1               0.000                              1.0   \n",
       "2               0.000                              0.0   \n",
       "3               0.125                              0.0   \n",
       "4               0.250                              0.0   \n",
       "\n",
       "   nivel_de_satisfaccion_Pésimo  nivel_de_satisfaccion_Regular  \\\n",
       "0                           0.0                            0.0   \n",
       "1                           0.0                            0.0   \n",
       "2                           0.0                            0.0   \n",
       "3                           0.0                            0.0   \n",
       "4                           1.0                            0.0   \n",
       "\n",
       "   tuvo_un_accidente_laboral_si  promociones_ultimos_5_anios_si  area_RRHH  \\\n",
       "0                           0.0                             0.0        0.0   \n",
       "1                           0.0                             0.0        0.0   \n",
       "2                           1.0                             0.0        0.0   \n",
       "3                           0.0                             0.0        0.0   \n",
       "4                           0.0                             0.0        0.0   \n",
       "\n",
       "   area_TI  area_contabilidad  area_dirección  area_gestión de productos  \\\n",
       "0      0.0                0.0             0.0                        0.0   \n",
       "1      0.0                0.0             0.0                        0.0   \n",
       "2      0.0                0.0             0.0                        0.0   \n",
       "3      0.0                0.0             0.0                        1.0   \n",
       "4      0.0                0.0             0.0                        0.0   \n",
       "\n",
       "   area_marketing  area_soporte  area_tecnica  area_ventas  salario_bajo  \\\n",
       "0             0.0           0.0           1.0          0.0           1.0   \n",
       "1             0.0           0.0           0.0          1.0           0.0   \n",
       "2             0.0           0.0           1.0          0.0           0.0   \n",
       "3             0.0           0.0           0.0          0.0           1.0   \n",
       "4             0.0           1.0           0.0          0.0           1.0   \n",
       "\n",
       "   salario_medio  \n",
       "0            0.0  \n",
       "1            1.0  \n",
       "2            1.0  \n",
       "3            0.0  \n",
       "4            0.0  "
      ]
     },
     "execution_count": 35,
     "metadata": {},
     "output_type": "execute_result"
    }
   ],
   "source": [
    "X_train.head()"
   ]
  },
  {
   "cell_type": "code",
   "execution_count": 36,
   "metadata": {},
   "outputs": [],
   "source": [
    "# guardemos el set train y test  \n",
    "X_train.to_csv('xtrain.csv', index=False)\n",
    "X_val.to_csv('xval.csv', index=False)\n",
    "\n",
    "y_train.to_csv('ytrain.csv', index=False)\n",
    "y_val.to_csv('yval.csv', index=False)"
   ]
  },
  {
   "cell_type": "code",
   "execution_count": 37,
   "metadata": {},
   "outputs": [
    {
     "data": {
      "text/plain": [
       "['minmax_scaler.joblib']"
      ]
     },
     "execution_count": 37,
     "metadata": {},
     "output_type": "execute_result"
    }
   ],
   "source": [
    "# y guardemos el scaler también \n",
    "joblib.dump(scaler, 'minmax_scaler.joblib') "
   ]
  },
  {
   "cell_type": "markdown",
   "metadata": {},
   "source": [
    "Aquí termina la parte de feature engineering"
   ]
  },
  {
   "cell_type": "markdown",
   "metadata": {},
   "source": [
    "# Modelos\n",
    "\n",
    "Estamos en una situación de datos un tanto desbalanceados, entonces la métrica Accuracy puede no resultar conveniente. Estudio el área bajo la curva ROC (tal vez también las métricas Recall y Precision, pero sería más bien para mejorar el modelo). \n",
    "Para mejorar los modelos con desbalance, en caso que lo amerite, podría proponer lo siguiete: \n",
    "- Undersampling\n",
    "- Overssampling"
   ]
  },
  {
   "cell_type": "markdown",
   "metadata": {},
   "source": [
    "## Baseline prediction\n",
    "Predicciones de la clase mayoritaria para comparación "
   ]
  },
  {
   "cell_type": "code",
   "execution_count": 38,
   "metadata": {},
   "outputs": [],
   "source": [
    "y_val_base = pd.Series(np.zeros(len(y_val)))"
   ]
  },
  {
   "cell_type": "markdown",
   "metadata": {},
   "source": [
    "## Logistic Regression "
   ]
  },
  {
   "cell_type": "code",
   "execution_count": 39,
   "metadata": {},
   "outputs": [
    {
     "data": {
      "text/plain": [
       "LogisticRegression(max_iter=1000, random_state=0)"
      ]
     },
     "execution_count": 39,
     "metadata": {},
     "output_type": "execute_result"
    }
   ],
   "source": [
    "logit = LogisticRegression(random_state=0,  max_iter=1000)\n",
    "\n",
    "logit.fit(X_train, y_train)"
   ]
  },
  {
   "cell_type": "markdown",
   "metadata": {},
   "source": [
    "## Random Forest"
   ]
  },
  {
   "cell_type": "code",
   "execution_count": 40,
   "metadata": {},
   "outputs": [
    {
     "data": {
      "text/plain": [
       "RandomForestClassifier(random_state=0)"
      ]
     },
     "execution_count": 40,
     "metadata": {},
     "output_type": "execute_result"
    }
   ],
   "source": [
    "rf = RandomForestClassifier(n_estimators=100, random_state=0)\n",
    "\n",
    "rf.fit(X_train, y_train)"
   ]
  },
  {
   "cell_type": "markdown",
   "metadata": {},
   "source": [
    "## LightGBM"
   ]
  },
  {
   "cell_type": "code",
   "execution_count": 41,
   "metadata": {},
   "outputs": [
    {
     "data": {
      "text/plain": [
       "LGBMClassifier()"
      ]
     },
     "execution_count": 41,
     "metadata": {},
     "output_type": "execute_result"
    }
   ],
   "source": [
    "light_gbm = lgb.LGBMClassifier()\n",
    "\n",
    "light_gbm.fit(X_train, y_train)"
   ]
  },
  {
   "cell_type": "markdown",
   "metadata": {},
   "source": [
    "## Predicciones y comparación de modelos \n",
    "\n",
    "### ROC-AUC"
   ]
  },
  {
   "cell_type": "code",
   "execution_count": 42,
   "metadata": {},
   "outputs": [
    {
     "name": "stdout",
     "output_type": "stream",
     "text": [
      "ROC-AUC Baseline val: 0.5\n",
      "ROC-AUC Logistic Regression val: 0.7980892688201108\n",
      "ROC-AUC Random Forest val: 0.985868022705771\n",
      "ROC-AUC LightGBM val: 0.9893144343830247\n"
     ]
    }
   ],
   "source": [
    "print('ROC-AUC Baseline val: {}'.format(roc_auc_score(y_val, y_val_base)))\n",
    "print('ROC-AUC Logistic Regression val: {}'.format(roc_auc_score(y_val, logit.predict_proba(X_val)[:,1])))\n",
    "print('ROC-AUC Random Forest val: {}'.format(roc_auc_score(y_val, rf.predict_proba(X_val)[:,1])))\n",
    "print('ROC-AUC LightGBM val: {}'.format(roc_auc_score(y_val, light_gbm.predict_proba(X_val)[:,1])))"
   ]
  },
  {
   "cell_type": "markdown",
   "metadata": {},
   "source": [
    "# Optimización y validación cruzada del mejor modelo"
   ]
  },
  {
   "cell_type": "markdown",
   "metadata": {},
   "source": [
    "Busco mejorar parámetros del modelo LightGBM con la mejor ROC-AUC mediante GridSearchCV considerando también una validación cruzada (con un foldeado de 5) para tener un valor mas real."
   ]
  },
  {
   "cell_type": "code",
   "execution_count": 43,
   "metadata": {},
   "outputs": [],
   "source": [
    "from sklearn.model_selection import GridSearchCV, KFold"
   ]
  },
  {
   "cell_type": "code",
   "execution_count": 44,
   "metadata": {},
   "outputs": [
    {
     "name": "stdout",
     "output_type": "stream",
     "text": [
      "Fitting 5 folds for each of 54 candidates, totalling 270 fits\n",
      "[LightGBM] [Warning] Find whitespaces in feature_names, replace with underlines\n",
      "[LightGBM] [Warning] Auto-choosing row-wise multi-threading, the overhead of testing was 0.000311 seconds.\n",
      "You can set `force_row_wise=true` to remove the overhead.\n",
      "And if memory is not enough, you can set `force_col_wise=true`.\n",
      "[LightGBM] [Warning] No further splits with positive gain, best gain: -inf\n",
      "[LightGBM] [Warning] No further splits with positive gain, best gain: -inf\n",
      "[LightGBM] [Warning] No further splits with positive gain, best gain: -inf\n",
      "[LightGBM] [Warning] No further splits with positive gain, best gain: -inf\n",
      "[LightGBM] [Warning] No further splits with positive gain, best gain: -inf\n",
      "[LightGBM] [Warning] No further splits with positive gain, best gain: -inf\n",
      "[LightGBM] [Warning] No further splits with positive gain, best gain: -inf\n",
      "[LightGBM] [Warning] No further splits with positive gain, best gain: -inf\n",
      "[LightGBM] [Warning] No further splits with positive gain, best gain: -inf\n",
      "[LightGBM] [Warning] No further splits with positive gain, best gain: -inf\n",
      "[LightGBM] [Warning] No further splits with positive gain, best gain: -inf\n",
      "[LightGBM] [Warning] No further splits with positive gain, best gain: -inf\n"
     ]
    },
    {
     "data": {
      "text/plain": [
       "GridSearchCV(cv=KFold(n_splits=5, random_state=None, shuffle=True),\n",
       "             estimator=LGBMClassifier(), n_jobs=-1,\n",
       "             param_grid={'learning_rate': [0.005, 0.01, 0.1],\n",
       "                         'max_depth': [6, 8, 10], 'n_estimators': [100, 1000],\n",
       "                         'num_leaves': [32, 64, 128], 'objective': ['binary'],\n",
       "                         'silent': [True], 'verbose': [0]},\n",
       "             verbose=True)"
      ]
     },
     "execution_count": 44,
     "metadata": {},
     "output_type": "execute_result"
    }
   ],
   "source": [
    "model = lgb.LGBMClassifier()\n",
    "\n",
    "parameters = {\n",
    "    'objective': ['binary'],\n",
    "    'learning_rate': [0.005, 0.01, 0.1],\n",
    "    'verbose': [0],\n",
    "    \"num_leaves\": [32,64,128],\n",
    "    \"max_depth\": [6, 8, 10],\n",
    "    \"silent\": [True],\n",
    "    \"n_estimators\": [100,1000]\n",
    "}\n",
    "\n",
    "n_splits = 5\n",
    "kfold_5 = KFold(shuffle = True, n_splits = n_splits)\n",
    "\n",
    "search = GridSearchCV(model, \n",
    "                           parameters, \n",
    "                           cv=kfold_5,  \n",
    "                           n_jobs=-1,\n",
    "                           verbose=True)\n",
    "\n",
    "search.fit(X_train, y_train)"
   ]
  },
  {
   "cell_type": "code",
   "execution_count": 46,
   "metadata": {},
   "outputs": [
    {
     "name": "stdout",
     "output_type": "stream",
     "text": [
      "{'learning_rate': 0.1, 'max_depth': 10, 'n_estimators': 100, 'num_leaves': 64, 'objective': 'binary', 'silent': True, 'verbose': 0}\n"
     ]
    }
   ],
   "source": [
    "# veamos los mejores parámetros obtenidos\n",
    "print(search.best_params_)"
   ]
  },
  {
   "cell_type": "markdown",
   "metadata": {},
   "source": [
    "Podría seguir encontrando los parámetros comparando valores en torno a los mejore obtenidos, sin embargo procedo y evalúo el modelo con los mejores parámetros que encontré hasta el momento"
   ]
  },
  {
   "cell_type": "code",
   "execution_count": 47,
   "metadata": {},
   "outputs": [
    {
     "data": {
      "text/plain": [
       "LGBMClassifier(max_depth=10, num_leaves=64, objective='binary')"
      ]
     },
     "execution_count": 47,
     "metadata": {},
     "output_type": "execute_result"
    }
   ],
   "source": [
    "final_light_gbm = lgb.LGBMClassifier(num_leaves=64, \n",
    "                                     max_depth=10, \n",
    "                                     learning_rate=0.1, \n",
    "                                     n_estimators=100, \n",
    "                                     objective='binary')\n",
    "\n",
    "final_light_gbm.fit(X_train, y_train)"
   ]
  },
  {
   "cell_type": "code",
   "execution_count": 49,
   "metadata": {},
   "outputs": [
    {
     "name": "stdout",
     "output_type": "stream",
     "text": [
      "ROC-AUC LightGBM val: 0.9858595756183268\n"
     ]
    }
   ],
   "source": [
    "# finalmente queda nuestro modelo final evaluado con un valor más realista\n",
    "print('ROC-AUC LightGBM val: {}'.format(roc_auc_score(y_val, final_light_gbm.predict_proba(X_val)[:,1])))"
   ]
  },
  {
   "cell_type": "code",
   "execution_count": 50,
   "metadata": {},
   "outputs": [
    {
     "data": {
      "text/plain": [
       "['model.joblib']"
      ]
     },
     "execution_count": 50,
     "metadata": {},
     "output_type": "execute_result"
    }
   ],
   "source": [
    "# finalmente guardemos nuestro mejor modelo\n",
    "joblib.dump(final_light_gbm,'model.joblib') "
   ]
  },
  {
   "cell_type": "markdown",
   "metadata": {},
   "source": [
    "### Anexo: Precision t Recall vs Umbrales de probabilidad \n",
    "\n",
    "Veamos este gráfico para mejorar las predicciones variando el umbral de probabilidad y tomar como base para la mejora del modelo. "
   ]
  },
  {
   "cell_type": "code",
   "execution_count": 51,
   "metadata": {},
   "outputs": [
    {
     "data": {
      "image/png": "[encoded data removed]",
      "text/plain": [
       "<Figure size 576x396 with 1 Axes>"
      ]
     },
     "metadata": {},
     "output_type": "display_data"
    },
    {
     "data": {
      "text/plain": [
       "<AxesSubplot:title={'center':'Threshold Plot for LGBMClassifier'}, xlabel='discrimination threshold', ylabel='score'>"
      ]
     },
     "execution_count": 51,
     "metadata": {},
     "output_type": "execute_result"
    }
   ],
   "source": [
    "visualizer = DiscriminationThreshold(final_light_gbm,\n",
    "                                     n_trials=1,\n",
    "                                     cv=0.5,\n",
    "                                     argmax='fscore',\n",
    "                                     random_state=0,\n",
    "                                     is_fitted='auto',\n",
    "                                     exclude = \"queue_rate\")\n",
    "\n",
    "visualizer.fit(X_train, y_train)        # Fit el visualizador y el modelo\n",
    "visualizer.score(X_val, y_val)        # Evaluatos el modelo en la data de validación\n",
    "visualizer.show()"
   ]
  },
  {
   "cell_type": "markdown",
   "metadata": {},
   "source": [
    "Un buen parámetro suele ser tomar el mayor valor de F1 score para determinar el umbral (en este caso próximo a 0.7), esto queda sometido a discusión. Podríamos sin embargo variar el umbral: "
   ]
  },
  {
   "cell_type": "code",
   "execution_count": 57,
   "metadata": {},
   "outputs": [
    {
     "name": "stdout",
     "output_type": "stream",
     "text": [
      "Precision 0.9633507853403142\n",
      "Recall  0.9387755102040817\n",
      "F1 score  0.9509043927648579\n"
     ]
    }
   ],
   "source": [
    "# desde aquí podemos variar el umbral \n",
    "threshold = 0.7\n",
    "\n",
    "predicted_proba = final_light_gbm.predict_proba(X_val)[:,1]\n",
    "predicted = (predicted_proba >= threshold).astype('int')\n",
    "\n",
    "print('Precision', precision_score(y_val, predicted))\n",
    "print('Recall ', recall_score(y_val, predicted))\n",
    "print('F1 score ', f1_score(y_val, predicted))"
   ]
  },
  {
   "cell_type": "markdown",
   "metadata": {},
   "source": [
    "# Predicciones "
   ]
  },
  {
   "cell_type": "code",
   "execution_count": 71,
   "metadata": {},
   "outputs": [
    {
     "name": "stdout",
     "output_type": "stream",
     "text": [
      "(2000, 11)\n"
     ]
    },
    {
     "data": {
      "text/html": [
       "<div>\n",
       "<style scoped>\n",
       "    .dataframe tbody tr th:only-of-type {\n",
       "        vertical-align: middle;\n",
       "    }\n",
       "\n",
       "    .dataframe tbody tr th {\n",
       "        vertical-align: top;\n",
       "    }\n",
       "\n",
       "    .dataframe thead th {\n",
       "        text-align: right;\n",
       "    }\n",
       "</style>\n",
       "<table border=\"1\" class=\"dataframe\">\n",
       "  <thead>\n",
       "    <tr style=\"text-align: right;\">\n",
       "      <th></th>\n",
       "      <th>ID</th>\n",
       "      <th>nivel_de_satisfaccion</th>\n",
       "      <th>ultima_evaluacion</th>\n",
       "      <th>cantidad_proyectos</th>\n",
       "      <th>promedio_horas_mensuales_trabajadas</th>\n",
       "      <th>años_en_la_empresa</th>\n",
       "      <th>tuvo_un_accidente_laboral</th>\n",
       "      <th>promociones_ultimos_5_anios</th>\n",
       "      <th>area</th>\n",
       "      <th>salario</th>\n",
       "      <th>se_fue</th>\n",
       "    </tr>\n",
       "  </thead>\n",
       "  <tbody>\n",
       "    <tr>\n",
       "      <th>0</th>\n",
       "      <td>2.0</td>\n",
       "      <td>0.40</td>\n",
       "      <td>0.57</td>\n",
       "      <td>2</td>\n",
       "      <td>152</td>\n",
       "      <td>3</td>\n",
       "      <td>0</td>\n",
       "      <td>0</td>\n",
       "      <td>ventas</td>\n",
       "      <td>bajo</td>\n",
       "      <td>NaN</td>\n",
       "    </tr>\n",
       "    <tr>\n",
       "      <th>1</th>\n",
       "      <td>4.0</td>\n",
       "      <td>0.54</td>\n",
       "      <td>0.52</td>\n",
       "      <td>3</td>\n",
       "      <td>115</td>\n",
       "      <td>3</td>\n",
       "      <td>0</td>\n",
       "      <td>0</td>\n",
       "      <td>contabilidad</td>\n",
       "      <td>bajo</td>\n",
       "      <td>NaN</td>\n",
       "    </tr>\n",
       "    <tr>\n",
       "      <th>2</th>\n",
       "      <td>9.0</td>\n",
       "      <td>0.72</td>\n",
       "      <td>0.87</td>\n",
       "      <td>5</td>\n",
       "      <td>223</td>\n",
       "      <td>5</td>\n",
       "      <td>0</td>\n",
       "      <td>0</td>\n",
       "      <td>ventas</td>\n",
       "      <td>bajo</td>\n",
       "      <td>NaN</td>\n",
       "    </tr>\n",
       "    <tr>\n",
       "      <th>3</th>\n",
       "      <td>14.0</td>\n",
       "      <td>0.65</td>\n",
       "      <td>0.67</td>\n",
       "      <td>3</td>\n",
       "      <td>245</td>\n",
       "      <td>3</td>\n",
       "      <td>0</td>\n",
       "      <td>0</td>\n",
       "      <td>ventas</td>\n",
       "      <td>medio</td>\n",
       "      <td>NaN</td>\n",
       "    </tr>\n",
       "    <tr>\n",
       "      <th>4</th>\n",
       "      <td>15.0</td>\n",
       "      <td>0.54</td>\n",
       "      <td>0.95</td>\n",
       "      <td>4</td>\n",
       "      <td>256</td>\n",
       "      <td>3</td>\n",
       "      <td>0</td>\n",
       "      <td>0</td>\n",
       "      <td>soporte</td>\n",
       "      <td>bajo</td>\n",
       "      <td>NaN</td>\n",
       "    </tr>\n",
       "  </tbody>\n",
       "</table>\n",
       "</div>"
      ],
      "text/plain": [
       "     ID  nivel_de_satisfaccion  ultima_evaluacion  cantidad_proyectos  \\\n",
       "0   2.0                   0.40               0.57                   2   \n",
       "1   4.0                   0.54               0.52                   3   \n",
       "2   9.0                   0.72               0.87                   5   \n",
       "3  14.0                   0.65               0.67                   3   \n",
       "4  15.0                   0.54               0.95                   4   \n",
       "\n",
       "   promedio_horas_mensuales_trabajadas  años_en_la_empresa  \\\n",
       "0                                  152                   3   \n",
       "1                                  115                   3   \n",
       "2                                  223                   5   \n",
       "3                                  245                   3   \n",
       "4                                  256                   3   \n",
       "\n",
       "   tuvo_un_accidente_laboral  promociones_ultimos_5_anios          area  \\\n",
       "0                          0                            0        ventas   \n",
       "1                          0                            0  contabilidad   \n",
       "2                          0                            0        ventas   \n",
       "3                          0                            0        ventas   \n",
       "4                          0                            0       soporte   \n",
       "\n",
       "  salario  se_fue  \n",
       "0    bajo     NaN  \n",
       "1    bajo     NaN  \n",
       "2    bajo     NaN  \n",
       "3   medio     NaN  \n",
       "4    bajo     NaN  "
      ]
     },
     "execution_count": 71,
     "metadata": {},
     "output_type": "execute_result"
    }
   ],
   "source": [
    "# cargo los datos\n",
    "data_test = pd.read_csv('Evaluación Técnica - Applied Intelligence/test.csv')\n",
    "\n",
    "print(data_test.shape)\n",
    "data_test.head()"
   ]
  },
  {
   "cell_type": "code",
   "execution_count": 72,
   "metadata": {},
   "outputs": [],
   "source": [
    "# veamos que no haya missing values en variables numericas\n",
    "target = 'se_fue'\n",
    "vars_num = [c for c in data_test.columns if data_test[c].dtypes!='O']\n",
    "vars_cat = [c for c in data_test.columns if data_test[c].dtypes=='O' and c!=target]"
   ]
  },
  {
   "cell_type": "code",
   "execution_count": 73,
   "metadata": {},
   "outputs": [
    {
     "data": {
      "text/plain": [
       "ID                                        0\n",
       "nivel_de_satisfaccion                     0\n",
       "ultima_evaluacion                         0\n",
       "cantidad_proyectos                        0\n",
       "promedio_horas_mensuales_trabajadas       0\n",
       "años_en_la_empresa                        0\n",
       "tuvo_un_accidente_laboral                 0\n",
       "promociones_ultimos_5_anios               0\n",
       "se_fue                                 2000\n",
       "dtype: int64"
      ]
     },
     "execution_count": 73,
     "metadata": {},
     "output_type": "execute_result"
    }
   ],
   "source": [
    "# var numericas\n",
    "data_test[vars_num].isnull().sum()"
   ]
  },
  {
   "cell_type": "code",
   "execution_count": 74,
   "metadata": {},
   "outputs": [
    {
     "data": {
      "text/plain": [
       "area       0\n",
       "salario    0\n",
       "dtype: int64"
      ]
     },
     "execution_count": 74,
     "metadata": {},
     "output_type": "execute_result"
    }
   ],
   "source": [
    "# var categoricas\n",
    "data_test[vars_cat].isnull().sum()"
   ]
  },
  {
   "cell_type": "markdown",
   "metadata": {},
   "source": [
    "Excelente, no hay missing values "
   ]
  },
  {
   "cell_type": "markdown",
   "metadata": {},
   "source": [
    "## Feature engineer del set test"
   ]
  },
  {
   "cell_type": "code",
   "execution_count": 75,
   "metadata": {},
   "outputs": [],
   "source": [
    "# 1) Borro la columna de ID's\n",
    "data_test = data_test.drop(['ID'], axis=1)\n",
    "\n",
    "# 2) Pasemos a categórica la variable nivel_de_satisfacción    \n",
    "data_test['nivel_de_satisfaccion'] = data_test['nivel_de_satisfaccion'].apply(convert_satisfaction)\n",
    "\n",
    "# 7) Pasemos a categórica tuvo_un_accidente_laboral\n",
    "data_test['tuvo_un_accidente_laboral'] = data_test['tuvo_un_accidente_laboral'].apply(lambda value: 'no' if value == 0 else \"si\")\n",
    "\n",
    "# 8) También pasemos a categórica promociones_ultimos_5_anios\n",
    "data_test['promociones_ultimos_5_anios'] = data_test['promociones_ultimos_5_anios'].apply(lambda value: 'no' if value == 0 else \"si\")"
   ]
  },
  {
   "cell_type": "code",
   "execution_count": 76,
   "metadata": {},
   "outputs": [],
   "source": [
    "# Borro la columna 'se_fue'\n",
    "data_test = data_test.drop(['se_fue'], axis=1)"
   ]
  },
  {
   "cell_type": "code",
   "execution_count": 77,
   "metadata": {},
   "outputs": [
    {
     "name": "stdout",
     "output_type": "stream",
     "text": [
      "Numero de variables numericas: 4\n",
      "Numero de variables categoricas: 5\n"
     ]
    }
   ],
   "source": [
    "vars_num = [c for c in data_test.columns if data_test[c].dtypes!='O']\n",
    "vars_cat = [c for c in data_test.columns if data_test[c].dtypes=='O' and c!=target]\n",
    "\n",
    "print('Numero de variables numericas: {}'.format(len(vars_num)))\n",
    "print('Numero de variables categoricas: {}'.format(len(vars_cat)))"
   ]
  },
  {
   "cell_type": "code",
   "execution_count": 78,
   "metadata": {},
   "outputs": [
    {
     "data": {
      "text/plain": [
       "(2000, 20)"
      ]
     },
     "execution_count": 78,
     "metadata": {},
     "output_type": "execute_result"
    }
   ],
   "source": [
    "# one-hot encoding version\n",
    "for var in vars_cat:\n",
    "     \n",
    "    data_test = pd.concat([data_test,\n",
    "                        pd.get_dummies(data_test[var], prefix=var, drop_first=True)], axis=1)\n",
    "    \n",
    "\n",
    "data_test.drop(labels=vars_cat, axis=1, inplace=True)\n",
    "\n",
    "data_test.shape"
   ]
  },
  {
   "cell_type": "code",
   "execution_count": 81,
   "metadata": {},
   "outputs": [],
   "source": [
    "# escaleamos con el scaler utilizado: \n",
    "data_test = pd.DataFrame(scaler.transform(data_test), columns=data_test.columns)"
   ]
  },
  {
   "cell_type": "code",
   "execution_count": 82,
   "metadata": {},
   "outputs": [
    {
     "data": {
      "text/html": [
       "<div>\n",
       "<style scoped>\n",
       "    .dataframe tbody tr th:only-of-type {\n",
       "        vertical-align: middle;\n",
       "    }\n",
       "\n",
       "    .dataframe tbody tr th {\n",
       "        vertical-align: top;\n",
       "    }\n",
       "\n",
       "    .dataframe thead th {\n",
       "        text-align: right;\n",
       "    }\n",
       "</style>\n",
       "<table border=\"1\" class=\"dataframe\">\n",
       "  <thead>\n",
       "    <tr style=\"text-align: right;\">\n",
       "      <th></th>\n",
       "      <th>ultima_evaluacion</th>\n",
       "      <th>cantidad_proyectos</th>\n",
       "      <th>promedio_horas_mensuales_trabajadas</th>\n",
       "      <th>años_en_la_empresa</th>\n",
       "      <th>nivel_de_satisfaccion_Excelente</th>\n",
       "      <th>nivel_de_satisfaccion_Pésimo</th>\n",
       "      <th>nivel_de_satisfaccion_Regular</th>\n",
       "      <th>tuvo_un_accidente_laboral_si</th>\n",
       "      <th>promociones_ultimos_5_anios_si</th>\n",
       "      <th>area_RRHH</th>\n",
       "      <th>area_TI</th>\n",
       "      <th>area_contabilidad</th>\n",
       "      <th>area_dirección</th>\n",
       "      <th>area_gestión de productos</th>\n",
       "      <th>area_marketing</th>\n",
       "      <th>area_soporte</th>\n",
       "      <th>area_tecnica</th>\n",
       "      <th>area_ventas</th>\n",
       "      <th>salario_bajo</th>\n",
       "      <th>salario_medio</th>\n",
       "    </tr>\n",
       "  </thead>\n",
       "  <tbody>\n",
       "    <tr>\n",
       "      <th>0</th>\n",
       "      <td>0.328125</td>\n",
       "      <td>0.0</td>\n",
       "      <td>0.261682</td>\n",
       "      <td>0.125</td>\n",
       "      <td>0.0</td>\n",
       "      <td>0.0</td>\n",
       "      <td>1.0</td>\n",
       "      <td>0.0</td>\n",
       "      <td>0.0</td>\n",
       "      <td>0.0</td>\n",
       "      <td>0.0</td>\n",
       "      <td>0.0</td>\n",
       "      <td>0.0</td>\n",
       "      <td>0.0</td>\n",
       "      <td>0.0</td>\n",
       "      <td>0.0</td>\n",
       "      <td>0.0</td>\n",
       "      <td>1.0</td>\n",
       "      <td>1.0</td>\n",
       "      <td>0.0</td>\n",
       "    </tr>\n",
       "    <tr>\n",
       "      <th>1</th>\n",
       "      <td>0.250000</td>\n",
       "      <td>0.2</td>\n",
       "      <td>0.088785</td>\n",
       "      <td>0.125</td>\n",
       "      <td>0.0</td>\n",
       "      <td>0.0</td>\n",
       "      <td>1.0</td>\n",
       "      <td>0.0</td>\n",
       "      <td>0.0</td>\n",
       "      <td>0.0</td>\n",
       "      <td>0.0</td>\n",
       "      <td>1.0</td>\n",
       "      <td>0.0</td>\n",
       "      <td>0.0</td>\n",
       "      <td>0.0</td>\n",
       "      <td>0.0</td>\n",
       "      <td>0.0</td>\n",
       "      <td>0.0</td>\n",
       "      <td>1.0</td>\n",
       "      <td>0.0</td>\n",
       "    </tr>\n",
       "    <tr>\n",
       "      <th>2</th>\n",
       "      <td>0.796875</td>\n",
       "      <td>0.6</td>\n",
       "      <td>0.593458</td>\n",
       "      <td>0.375</td>\n",
       "      <td>0.0</td>\n",
       "      <td>0.0</td>\n",
       "      <td>0.0</td>\n",
       "      <td>0.0</td>\n",
       "      <td>0.0</td>\n",
       "      <td>0.0</td>\n",
       "      <td>0.0</td>\n",
       "      <td>0.0</td>\n",
       "      <td>0.0</td>\n",
       "      <td>0.0</td>\n",
       "      <td>0.0</td>\n",
       "      <td>0.0</td>\n",
       "      <td>0.0</td>\n",
       "      <td>1.0</td>\n",
       "      <td>1.0</td>\n",
       "      <td>0.0</td>\n",
       "    </tr>\n",
       "    <tr>\n",
       "      <th>3</th>\n",
       "      <td>0.484375</td>\n",
       "      <td>0.2</td>\n",
       "      <td>0.696262</td>\n",
       "      <td>0.125</td>\n",
       "      <td>0.0</td>\n",
       "      <td>0.0</td>\n",
       "      <td>0.0</td>\n",
       "      <td>0.0</td>\n",
       "      <td>0.0</td>\n",
       "      <td>0.0</td>\n",
       "      <td>0.0</td>\n",
       "      <td>0.0</td>\n",
       "      <td>0.0</td>\n",
       "      <td>0.0</td>\n",
       "      <td>0.0</td>\n",
       "      <td>0.0</td>\n",
       "      <td>0.0</td>\n",
       "      <td>1.0</td>\n",
       "      <td>0.0</td>\n",
       "      <td>1.0</td>\n",
       "    </tr>\n",
       "    <tr>\n",
       "      <th>4</th>\n",
       "      <td>0.921875</td>\n",
       "      <td>0.4</td>\n",
       "      <td>0.747664</td>\n",
       "      <td>0.125</td>\n",
       "      <td>0.0</td>\n",
       "      <td>0.0</td>\n",
       "      <td>1.0</td>\n",
       "      <td>0.0</td>\n",
       "      <td>0.0</td>\n",
       "      <td>0.0</td>\n",
       "      <td>0.0</td>\n",
       "      <td>0.0</td>\n",
       "      <td>0.0</td>\n",
       "      <td>0.0</td>\n",
       "      <td>0.0</td>\n",
       "      <td>1.0</td>\n",
       "      <td>0.0</td>\n",
       "      <td>0.0</td>\n",
       "      <td>1.0</td>\n",
       "      <td>0.0</td>\n",
       "    </tr>\n",
       "  </tbody>\n",
       "</table>\n",
       "</div>"
      ],
      "text/plain": [
       "   ultima_evaluacion  cantidad_proyectos  promedio_horas_mensuales_trabajadas  \\\n",
       "0           0.328125                 0.0                             0.261682   \n",
       "1           0.250000                 0.2                             0.088785   \n",
       "2           0.796875                 0.6                             0.593458   \n",
       "3           0.484375                 0.2                             0.696262   \n",
       "4           0.921875                 0.4                             0.747664   \n",
       "\n",
       "   años_en_la_empresa  nivel_de_satisfaccion_Excelente  \\\n",
       "0               0.125                              0.0   \n",
       "1               0.125                              0.0   \n",
       "2               0.375                              0.0   \n",
       "3               0.125                              0.0   \n",
       "4               0.125                              0.0   \n",
       "\n",
       "   nivel_de_satisfaccion_Pésimo  nivel_de_satisfaccion_Regular  \\\n",
       "0                           0.0                            1.0   \n",
       "1                           0.0                            1.0   \n",
       "2                           0.0                            0.0   \n",
       "3                           0.0                            0.0   \n",
       "4                           0.0                            1.0   \n",
       "\n",
       "   tuvo_un_accidente_laboral_si  promociones_ultimos_5_anios_si  area_RRHH  \\\n",
       "0                           0.0                             0.0        0.0   \n",
       "1                           0.0                             0.0        0.0   \n",
       "2                           0.0                             0.0        0.0   \n",
       "3                           0.0                             0.0        0.0   \n",
       "4                           0.0                             0.0        0.0   \n",
       "\n",
       "   area_TI  area_contabilidad  area_dirección  area_gestión de productos  \\\n",
       "0      0.0                0.0             0.0                        0.0   \n",
       "1      0.0                1.0             0.0                        0.0   \n",
       "2      0.0                0.0             0.0                        0.0   \n",
       "3      0.0                0.0             0.0                        0.0   \n",
       "4      0.0                0.0             0.0                        0.0   \n",
       "\n",
       "   area_marketing  area_soporte  area_tecnica  area_ventas  salario_bajo  \\\n",
       "0             0.0           0.0           0.0          1.0           1.0   \n",
       "1             0.0           0.0           0.0          0.0           1.0   \n",
       "2             0.0           0.0           0.0          1.0           1.0   \n",
       "3             0.0           0.0           0.0          1.0           0.0   \n",
       "4             0.0           1.0           0.0          0.0           1.0   \n",
       "\n",
       "   salario_medio  \n",
       "0            0.0  \n",
       "1            0.0  \n",
       "2            0.0  \n",
       "3            1.0  \n",
       "4            0.0  "
      ]
     },
     "execution_count": 82,
     "metadata": {},
     "output_type": "execute_result"
    }
   ],
   "source": [
    "data_test.head()"
   ]
  },
  {
   "cell_type": "markdown",
   "metadata": {},
   "source": [
    "## Calculamos y guardamos predicciones en formato pedido"
   ]
  },
  {
   "cell_type": "code",
   "execution_count": 87,
   "metadata": {},
   "outputs": [
    {
     "data": {
      "text/html": [
       "<div>\n",
       "<style scoped>\n",
       "    .dataframe tbody tr th:only-of-type {\n",
       "        vertical-align: middle;\n",
       "    }\n",
       "\n",
       "    .dataframe tbody tr th {\n",
       "        vertical-align: top;\n",
       "    }\n",
       "\n",
       "    .dataframe thead th {\n",
       "        text-align: right;\n",
       "    }\n",
       "</style>\n",
       "<table border=\"1\" class=\"dataframe\">\n",
       "  <thead>\n",
       "    <tr style=\"text-align: right;\">\n",
       "      <th></th>\n",
       "      <th>ID</th>\n",
       "      <th>se_fue</th>\n",
       "    </tr>\n",
       "  </thead>\n",
       "  <tbody>\n",
       "    <tr>\n",
       "      <th>0</th>\n",
       "      <td>2.0</td>\n",
       "      <td>NaN</td>\n",
       "    </tr>\n",
       "    <tr>\n",
       "      <th>1</th>\n",
       "      <td>4.0</td>\n",
       "      <td>NaN</td>\n",
       "    </tr>\n",
       "    <tr>\n",
       "      <th>2</th>\n",
       "      <td>9.0</td>\n",
       "      <td>NaN</td>\n",
       "    </tr>\n",
       "    <tr>\n",
       "      <th>3</th>\n",
       "      <td>14.0</td>\n",
       "      <td>NaN</td>\n",
       "    </tr>\n",
       "    <tr>\n",
       "      <th>4</th>\n",
       "      <td>15.0</td>\n",
       "      <td>NaN</td>\n",
       "    </tr>\n",
       "  </tbody>\n",
       "</table>\n",
       "</div>"
      ],
      "text/plain": [
       "     ID  se_fue\n",
       "0   2.0     NaN\n",
       "1   4.0     NaN\n",
       "2   9.0     NaN\n",
       "3  14.0     NaN\n",
       "4  15.0     NaN"
      ]
     },
     "execution_count": 87,
     "metadata": {},
     "output_type": "execute_result"
    }
   ],
   "source": [
    "# ejemplo de como debo presentar datos\n",
    "ejemplo = pd.read_csv('Evaluación Técnica - Applied Intelligence/submission.csv')\n",
    "ejemplo.head()"
   ]
  },
  {
   "cell_type": "code",
   "execution_count": null,
   "metadata": {},
   "outputs": [],
   "source": [
    "# predicciones\n",
    "pred = final_light_gbm.predict(data_test)\n",
    "# recupero los ID's\n",
    "ID = pd.read_csv('Evaluación Técnica - Applied Intelligence/test.csv')['ID']"
   ]
  },
  {
   "cell_type": "code",
   "execution_count": 110,
   "metadata": {},
   "outputs": [
    {
     "data": {
      "text/html": [
       "<div>\n",
       "<style scoped>\n",
       "    .dataframe tbody tr th:only-of-type {\n",
       "        vertical-align: middle;\n",
       "    }\n",
       "\n",
       "    .dataframe tbody tr th {\n",
       "        vertical-align: top;\n",
       "    }\n",
       "\n",
       "    .dataframe thead th {\n",
       "        text-align: right;\n",
       "    }\n",
       "</style>\n",
       "<table border=\"1\" class=\"dataframe\">\n",
       "  <thead>\n",
       "    <tr style=\"text-align: right;\">\n",
       "      <th></th>\n",
       "      <th>ID</th>\n",
       "      <th>se_fue</th>\n",
       "    </tr>\n",
       "  </thead>\n",
       "  <tbody>\n",
       "    <tr>\n",
       "      <th>0</th>\n",
       "      <td>2.0</td>\n",
       "      <td>1</td>\n",
       "    </tr>\n",
       "    <tr>\n",
       "      <th>1</th>\n",
       "      <td>4.0</td>\n",
       "      <td>0</td>\n",
       "    </tr>\n",
       "    <tr>\n",
       "      <th>2</th>\n",
       "      <td>9.0</td>\n",
       "      <td>1</td>\n",
       "    </tr>\n",
       "    <tr>\n",
       "      <th>3</th>\n",
       "      <td>14.0</td>\n",
       "      <td>0</td>\n",
       "    </tr>\n",
       "    <tr>\n",
       "      <th>4</th>\n",
       "      <td>15.0</td>\n",
       "      <td>0</td>\n",
       "    </tr>\n",
       "  </tbody>\n",
       "</table>\n",
       "</div>"
      ],
      "text/plain": [
       "     ID  se_fue\n",
       "0   2.0       1\n",
       "1   4.0       0\n",
       "2   9.0       1\n",
       "3  14.0       0\n",
       "4  15.0       0"
      ]
     },
     "execution_count": 110,
     "metadata": {},
     "output_type": "execute_result"
    }
   ],
   "source": [
    "# Creo el dataframe correspondiente\n",
    "d = {'ID':ID,'se_fue':pred}\n",
    "\n",
    "predicciones = pd.DataFrame(data=d)\n",
    "predicciones.head()"
   ]
  },
  {
   "cell_type": "code",
   "execution_count": 111,
   "metadata": {},
   "outputs": [],
   "source": [
    "# guardemos las predicciones en formato .csv  \n",
    "predicciones.to_csv('predicciones.csv', index=False)"
   ]
  },
  {
   "cell_type": "markdown",
   "metadata": {},
   "source": [
    "Aquí termina el challenge! Saludos! "
   ]
  }
 ],
 "metadata": {
  "kernelspec": {
   "display_name": "Python 3",
   "language": "python",
   "name": "python3"
  },
  "language_info": {
   "codemirror_mode": {
    "name": "ipython",
    "version": 3
   },
   "file_extension": ".py",
   "mimetype": "text/x-python",
   "name": "python",
   "nbconvert_exporter": "python",
   "pygments_lexer": "ipython3",
   "version": "3.8.5"
  },
  "toc": {
   "base_numbering": 1,
   "nav_menu": {},
   "number_sections": true,
   "sideBar": true,
   "skip_h1_title": false,
   "title_cell": "Table of Contents",
   "title_sidebar": "Contents",
   "toc_cell": false,
   "toc_position": {},
   "toc_section_display": true,
   "toc_window_display": true
  }
 },
 "nbformat": 4,
 "nbformat_minor": 4
}
